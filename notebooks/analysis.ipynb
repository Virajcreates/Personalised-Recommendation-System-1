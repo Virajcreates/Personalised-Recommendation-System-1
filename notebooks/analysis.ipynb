{
 "cells": [
  {
   "cell_type": "code",
   "execution_count": 2,
   "metadata": {},
   "outputs": [],
   "source": [
    "import pandas as pd\n",
    "import numpy as np\n",
    "from sklearn.preprocessing import LabelEncoder\n",
    "import matplotlib.pyplot as plt\n",
    "import seaborn as sns\n",
    "from sklearn.model_selection import train_test_split\n",
    "import torch\n",
    "import torch.nn as nn\n",
    "import torch.optim as optim\n",
    "from torch.utils.data import Dataset, DataLoader\n",
    "from collections import defaultdict\n",
    "import pickle\n",
    "from torch.amp import GradScaler, autocast\n",
    "import random\n",
    "from multiprocessing import Pool, cpu_count\n",
    "from tqdm import tqdm\n"
   ]
  },
  {
   "cell_type": "code",
   "execution_count": 3,
   "metadata": {},
   "outputs": [],
   "source": [
    "# 1. Set Random Seed for Reproducibility\n",
    "def set_seed(seed=42):\n",
    "    torch.manual_seed(seed)\n",
    "    torch.cuda.manual_seed_all(seed)\n",
    "    np.random.seed(seed)\n",
    "    random.seed(seed)\n",
    "    # torch.backends.cudnn.deterministic = True  # Uncomment for deterministic behavior\n",
    "\n",
    "set_seed()"
   ]
  },
  {
   "cell_type": "code",
   "execution_count": 4,
   "metadata": {},
   "outputs": [
    {
     "name": "stdout",
     "output_type": "stream",
     "text": [
      "Events DataFrame:\n",
      "       timestamp  visitorid event  itemid  transactionid\n",
      "0  1433221332117     257597  view  355908            NaN\n",
      "1  1433224214164     992329  view  248676            NaN\n",
      "2  1433221999827     111016  view  318965            NaN\n",
      "3  1433221955914     483717  view  253185            NaN\n",
      "4  1433221337106     951259  view  367447            NaN\n",
      "<class 'pandas.core.frame.DataFrame'>\n",
      "RangeIndex: 2756101 entries, 0 to 2756100\n",
      "Data columns (total 5 columns):\n",
      " #   Column         Dtype  \n",
      "---  ------         -----  \n",
      " 0   timestamp      int64  \n",
      " 1   visitorid      int64  \n",
      " 2   event          object \n",
      " 3   itemid         int64  \n",
      " 4   transactionid  float64\n",
      "dtypes: float64(1), int64(3), object(1)\n",
      "memory usage: 105.1+ MB\n",
      "None\n",
      "\n",
      "Item Properties Part 1:\n",
      "       timestamp  itemid    property                            value\n",
      "0  1435460400000  460429  categoryid                             1338\n",
      "1  1441508400000  206783         888          1116713 960601 n277.200\n",
      "2  1439089200000  395014         400  n552.000 639502 n720.000 424566\n",
      "3  1431226800000   59481         790                       n15360.000\n",
      "4  1431831600000  156781         917                           828513\n",
      "<class 'pandas.core.frame.DataFrame'>\n",
      "RangeIndex: 10999999 entries, 0 to 10999998\n",
      "Data columns (total 4 columns):\n",
      " #   Column     Dtype \n",
      "---  ------     ----- \n",
      " 0   timestamp  int64 \n",
      " 1   itemid     int64 \n",
      " 2   property   object\n",
      " 3   value      object\n",
      "dtypes: int64(2), object(2)\n",
      "memory usage: 335.7+ MB\n",
      "None\n",
      "\n",
      "Item Properties Part 2:\n",
      "       timestamp  itemid property            value\n",
      "0  1433041200000  183478      561           769062\n",
      "1  1439694000000  132256      976  n26.400 1135780\n",
      "2  1435460400000  420307      921  1149317 1257525\n",
      "3  1431831600000  403324      917          1204143\n",
      "4  1435460400000  230701      521           769062\n",
      "<class 'pandas.core.frame.DataFrame'>\n",
      "RangeIndex: 9275903 entries, 0 to 9275902\n",
      "Data columns (total 4 columns):\n",
      " #   Column     Dtype \n",
      "---  ------     ----- \n",
      " 0   timestamp  int64 \n",
      " 1   itemid     int64 \n",
      " 2   property   object\n",
      " 3   value      object\n",
      "dtypes: int64(2), object(2)\n",
      "memory usage: 283.1+ MB\n",
      "None\n",
      "\n",
      "Category Tree:\n",
      "   categoryid  parentid\n",
      "0        1016     213.0\n",
      "1         809     169.0\n",
      "2         570       9.0\n",
      "3        1691     885.0\n",
      "4         536    1691.0\n",
      "<class 'pandas.core.frame.DataFrame'>\n",
      "RangeIndex: 1669 entries, 0 to 1668\n",
      "Data columns (total 2 columns):\n",
      " #   Column      Non-Null Count  Dtype  \n",
      "---  ------      --------------  -----  \n",
      " 0   categoryid  1669 non-null   int64  \n",
      " 1   parentid    1644 non-null   float64\n",
      "dtypes: float64(1), int64(1)\n",
      "memory usage: 26.2 KB\n",
      "None\n"
     ]
    }
   ],
   "source": [
    "# 2. Load Datasets\n",
    "events = pd.read_csv('data/events.csv')\n",
    "category_tree = pd.read_csv('data/category_tree.csv')\n",
    "item_properties_part1 = pd.read_csv('data/item_properties_part1.csv')\n",
    "item_properties_part2 = pd.read_csv('data/item_properties_part2.csv')\n",
    "\n",
    "# 3. Inspect Data\n",
    "print(\"Events DataFrame:\")\n",
    "print(events.head())\n",
    "print(events.info())\n",
    "\n",
    "print(\"\\nItem Properties Part 1:\")\n",
    "print(item_properties_part1.head())\n",
    "print(item_properties_part1.info())\n",
    "\n",
    "print(\"\\nItem Properties Part 2:\")\n",
    "print(item_properties_part2.head())\n",
    "print(item_properties_part2.info())\n",
    "\n",
    "print(\"\\nCategory Tree:\")\n",
    "print(category_tree.head())\n",
    "print(category_tree.info())"
   ]
  },
  {
   "cell_type": "code",
   "execution_count": 5,
   "metadata": {},
   "outputs": [
    {
     "name": "stdout",
     "output_type": "stream",
     "text": [
      "Columns in Part 1: ['timestamp', 'itemid', 'property', 'value']\n",
      "Columns in Part 2: ['timestamp', 'itemid', 'property', 'value']\n",
      "\n",
      "Combined Catalog:\n",
      "       timestamp  itemid    property                            value\n",
      "0  1435460400000  460429  categoryid                             1338\n",
      "1  1441508400000  206783         888          1116713 960601 n277.200\n",
      "2  1439089200000  395014         400  n552.000 639502 n720.000 424566\n",
      "3  1431226800000   59481         790                       n15360.000\n",
      "4  1431831600000  156781         917                           828513\n",
      "<class 'pandas.core.frame.DataFrame'>\n",
      "RangeIndex: 20275902 entries, 0 to 20275901\n",
      "Data columns (total 4 columns):\n",
      " #   Column     Dtype \n",
      "---  ------     ----- \n",
      " 0   timestamp  int64 \n",
      " 1   itemid     int64 \n",
      " 2   property   object\n",
      " 3   value      object\n",
      "dtypes: int64(2), object(2)\n",
      "memory usage: 618.8+ MB\n",
      "None\n"
     ]
    }
   ],
   "source": [
    "# 4. Concatenate Item Properties\n",
    "catalog_part1 = item_properties_part1.copy()\n",
    "catalog_part2 = item_properties_part2.copy()\n",
    "\n",
    "# Ensure consistent column names\n",
    "print(\"Columns in Part 1:\", catalog_part1.columns.tolist())\n",
    "print(\"Columns in Part 2:\", catalog_part2.columns.tolist())\n",
    "\n",
    "# If column names differ, rename them to match (Adjust based on your actual column names)\n",
    "# Example:\n",
    "# catalog_part2.rename(columns={'prod_id': 'itemid', 'prod_title': 'title'}, inplace=True)\n",
    "\n",
    "# Concatenate\n",
    "catalog = pd.concat([catalog_part1, catalog_part2], ignore_index=True)\n",
    "print(\"\\nCombined Catalog:\")\n",
    "print(catalog.head())\n",
    "print(catalog.info())\n"
   ]
  },
  {
   "cell_type": "code",
   "execution_count": 6,
   "metadata": {},
   "outputs": [
    {
     "name": "stdout",
     "output_type": "stream",
     "text": [
      "\n",
      "Number of duplicate items: 20275902\n"
     ]
    }
   ],
   "source": [
    "# Check for duplicate item_ids\n",
    "duplicate_items = catalog[catalog.duplicated(subset=['itemid'], keep=False)]\n",
    "print(f\"\\nNumber of duplicate items: {duplicate_items.shape[0]}\")\n",
    "\n",
    "# If duplicates exist, decide on a strategy to handle them (e.g., keep the first occurrence)\n",
    "catalog.drop_duplicates(subset=['itemid'], keep='first', inplace=True)"
   ]
  },
  {
   "cell_type": "code",
   "execution_count": 7,
   "metadata": {},
   "outputs": [
    {
     "name": "stdout",
     "output_type": "stream",
     "text": [
      "Category Tree:\n",
      "   categoryid  parentid\n",
      "0        1016     213.0\n",
      "1         809     169.0\n",
      "2         570       9.0\n",
      "3        1691     885.0\n",
      "4         536    1691.0\n",
      "Cannot merge catalog with category_tree.csv. Check the column names for Category IDs.\n"
     ]
    }
   ],
   "source": [
    "# Merge with category_tree\n",
    "print(\"Category Tree:\")\n",
    "print(category_tree.head())\n",
    "\n",
    "# Assuming category_tree has 'categoryid', 'parentid', 'category_name'\n",
    "if 'categoryid' in catalog.columns and 'categoryid' in category_tree.columns:\n",
    "    catalog = catalog.merge(category_tree[['categoryid', 'parentid']], on='categoryid', how='left')\n",
    "    print(\"\\nCatalog after merging with Category Tree:\")\n",
    "    print(catalog.head())\n",
    "else:\n",
    "    print(\"Cannot merge catalog with category_tree.csv. Check the column names for Category IDs.\")"
   ]
  },
  {
   "cell_type": "code",
   "execution_count": 8,
   "metadata": {},
   "outputs": [],
   "source": [
    "# Convert timestamp to datetime in events\n",
    "events['timestamp'] = pd.to_datetime(events['timestamp'], unit='ms')\n"
   ]
  },
  {
   "cell_type": "code",
   "execution_count": 9,
   "metadata": {},
   "outputs": [],
   "source": [
    "# Filter relevant events (e.g., purchases and views)\n",
    "relevant_events = events[events['event'].isin(['view', 'purchase'])].copy()\n"
   ]
  },
  {
   "cell_type": "code",
   "execution_count": 10,
   "metadata": {},
   "outputs": [],
   "source": [
    "# Handle missing values in catalog\n",
    "# Fill missing descriptions or other textual fields with empty strings\n",
    "if 'ProductDescription' in catalog.columns:\n",
    "    catalog['ProductDescription'] = catalog['ProductDescription'].fillna('')\n",
    "else:\n",
    "    # If 'ProductDescription' is not present, create it or handle accordingly\n",
    "    catalog['ProductDescription'] = ''"
   ]
  },
  {
   "cell_type": "code",
   "execution_count": 11,
   "metadata": {},
   "outputs": [],
   "source": [
    "# Encode user and item IDs\n",
    "user_encoder = LabelEncoder()\n",
    "item_encoder = LabelEncoder()"
   ]
  },
  {
   "cell_type": "code",
   "execution_count": 12,
   "metadata": {},
   "outputs": [],
   "source": [
    "# Encode 'visitorid' as 'user'\n",
    "relevant_events['user'] = user_encoder.fit_transform(relevant_events['visitorid'].astype(str))\n"
   ]
  },
  {
   "cell_type": "code",
   "execution_count": 13,
   "metadata": {},
   "outputs": [],
   "source": [
    "# Encode 'itemid' as 'item'\n",
    "relevant_events['item'] = item_encoder.fit_transform(relevant_events['itemid'].astype(str))\n"
   ]
  },
  {
   "cell_type": "code",
   "execution_count": 14,
   "metadata": {},
   "outputs": [
    {
     "name": "stdout",
     "output_type": "stream",
     "text": [
      "\n",
      "Processed Interaction Data:\n",
      "      user    item  interaction\n",
      "0   581286  143079            1\n",
      "1  1395678   82986            1\n",
      "2   122133  122312            1\n",
      "3   831931   85528            1\n",
      "4  1350167  149548            1\n"
     ]
    }
   ],
   "source": [
    "# Select relevant columns for interactions\n",
    "data = relevant_events[['user', 'item', 'event']].copy()\n",
    "\n",
    "# Map event types to interaction values\n",
    "interaction_mapping = {'view': 1, 'purchase': 2}\n",
    "data['interaction'] = data['event'].map(interaction_mapping)\n",
    "\n",
    "# Drop the original 'event' column\n",
    "data.drop('event', axis=1, inplace=True)\n",
    "\n",
    "print(\"\\nProcessed Interaction Data:\")\n",
    "print(data.head())"
   ]
  },
  {
   "cell_type": "code",
   "execution_count": 15,
   "metadata": {},
   "outputs": [
    {
     "name": "stdout",
     "output_type": "stream",
     "text": [
      "\n",
      "Number of users: 1404179\n",
      "Number of items: 234838\n"
     ]
    }
   ],
   "source": [
    "# 5. Exploratory Data Analysis (EDA)\n",
    "num_users = data['user'].nunique()\n",
    "num_items = data['item'].nunique()\n",
    "print(f'\\nNumber of users: {num_users}')\n",
    "print(f'Number of items: {num_items}')"
   ]
  },
  {
   "cell_type": "code",
   "execution_count": 16,
   "metadata": {},
   "outputs": [
    {
     "data": {
      "image/png": "[encoded data removed]",
      "text/plain": [
       "<Figure size 1000x600 with 1 Axes>"
      ]
     },
     "metadata": {},
     "output_type": "display_data"
    }
   ],
   "source": [
    "# Distribution of interactions per user\n",
    "plt.figure(figsize=(10,6))\n",
    "sns.histplot(data['user'].value_counts(), bins=50, log_scale=True)\n",
    "plt.title('Distribution of Interactions per User')\n",
    "plt.xlabel('Number of Interactions')\n",
    "plt.ylabel('Frequency')\n",
    "plt.show()"
   ]
  },
  {
   "cell_type": "code",
   "execution_count": 17,
   "metadata": {},
   "outputs": [
    {
     "data": {
      "image/png": "[encoded data removed]",
      "text/plain": [
       "<Figure size 1000x600 with 1 Axes>"
      ]
     },
     "metadata": {},
     "output_type": "display_data"
    }
   ],
   "source": [
    "# Distribution of interactions per item\n",
    "plt.figure(figsize=(10,6))\n",
    "sns.histplot(data['item'].value_counts(), bins=50, log_scale=True)\n",
    "plt.title('Distribution of Interactions per Item')\n",
    "plt.xlabel('Number of Interactions')\n",
    "plt.ylabel('Frequency')\n",
    "plt.show()"
   ]
  },
  {
   "cell_type": "code",
   "execution_count": 21,
   "metadata": {},
   "outputs": [
    {
     "name": "stdout",
     "output_type": "stream",
     "text": [
      "\n",
      "Training data shape: (2131449, 3)\n",
      "Testing data shape: (532863, 3)\n"
     ]
    }
   ],
   "source": [
    "# 9. Split Data into Training and Testing Sets\n",
    "train_data, test_data = train_test_split(data, test_size=0.2, random_state=42)\n",
    "print(f\"\\nTraining data shape: {train_data.shape}\")\n",
    "print(f\"Testing data shape: {test_data.shape}\")\n",
    "\n",
    "# 10. Generate Negative Samples (Optimized Vectorized Approach)\n",
    "def generate_negative_samples_vectorized(df, num_negatives=4):\n",
    "    \"\"\"\n",
    "    Generate negative samples for each user using vectorized operations.\n",
    "\n",
    "    Args:\n",
    "        df (pd.DataFrame): DataFrame containing user-item interactions.\n",
    "        num_negatives (int): Number of negative samples per user.\n",
    "\n",
    "    Returns:\n",
    "        pd.DataFrame: DataFrame containing negative samples with columns ['user', 'item', 'label'].\n",
    "    \"\"\"\n",
    "    users = df['user'].unique()\n",
    "    all_items = df['item'].unique()\n",
    "    all_items_set = set(all_items)\n",
    "    \n",
    "    # Create a mapping from user to set of positive items\n",
    "    user_to_pos_items = df.groupby('user')['item'].apply(set).to_dict()\n",
    "    \n",
    "    negative_users = []\n",
    "    negative_items = []\n",
    "    negative_labels = []\n",
    "    \n",
    "    for user in tqdm(users, desc=\"Generating Negative Samples\"):\n",
    "        pos_items = user_to_pos_items[user]\n",
    "        neg_candidates = list(all_items_set - pos_items)\n",
    "        \n",
    "        if len(neg_candidates) >= num_negatives:\n",
    "            sampled_negatives = np.random.choice(neg_candidates, size=num_negatives, replace=False)\n",
    "        else:\n",
    "            # If not enough candidates, sample with replacement\n",
    "            sampled_negatives = np.random.choice(neg_candidates, size=num_negatives, replace=True)\n",
    "        \n",
    "        negative_users.extend([user] * num_negatives)\n",
    "        negative_items.extend(sampled_negatives)\n",
    "        negative_labels.extend([0] * num_negatives)\n",
    "    \n",
    "    negative_df = pd.DataFrame({\n",
    "        'user': negative_users,\n",
    "        'item': negative_items,\n",
    "        'label': negative_labels\n",
    "    })\n",
    "    \n",
    "    return negative_df"
   ]
  },
  {
   "cell_type": "code",
   "execution_count": 22,
   "metadata": {},
   "outputs": [
    {
     "name": "stdout",
     "output_type": "stream",
     "text": [
      "Generating negative samples for training...\n"
     ]
    },
    {
     "name": "stderr",
     "output_type": "stream",
     "text": [
      "Generating Negative Samples: 100%|██████████| 1193499/1193499 [26:29:26<00:00, 12.51it/s]        \n"
     ]
    },
    {
     "name": "stdout",
     "output_type": "stream",
     "text": [
      "Total training samples: 6905445\n",
      "Generating negative samples for testing...\n"
     ]
    },
    {
     "name": "stderr",
     "output_type": "stream",
     "text": [
      "Generating Negative Samples: 100%|██████████| 396718/396718 [13:13:48<00:00,  8.33it/s]       \n"
     ]
    },
    {
     "name": "stdout",
     "output_type": "stream",
     "text": [
      "Total testing samples: 2119735\n"
     ]
    }
   ],
   "source": [
    "# 11. Prepare Training and Testing Datasets with Negative Samples\n",
    "# Positive samples\n",
    "train_positive = train_data[['user', 'item']].copy()\n",
    "train_positive['label'] = 1\n",
    "\n",
    "# Negative samples (optimized vectorized approach)\n",
    "print(\"Generating negative samples for training...\")\n",
    "train_negative = generate_negative_samples_vectorized(train_data, num_negatives=4)\n",
    "\n",
    "# Combine positive and negative samples\n",
    "train_combined = pd.concat([train_positive, train_negative], ignore_index=True)\n",
    "\n",
    "# Shuffle the combined training data\n",
    "train_combined = train_combined.sample(frac=1, random_state=42).reset_index(drop=True)\n",
    "print(f\"Total training samples: {train_combined.shape[0]}\")\n",
    "\n",
    "# Similarly, prepare testing data\n",
    "# Positive samples\n",
    "test_positive = test_data[['user', 'item']].copy()\n",
    "test_positive['label'] = 1\n",
    "\n",
    "print(\"Generating negative samples for testing...\")\n",
    "test_negative = generate_negative_samples_vectorized(test_data, num_negatives=4)\n",
    "\n",
    "# Combine positive and negative samples for test data\n",
    "test_combined = pd.concat([test_positive, test_negative], ignore_index=True)\n",
    "\n",
    "# Shuffle the combined test data\n",
    "test_combined = test_combined.sample(frac=1, random_state=42).reset_index(drop=True)\n",
    "print(f\"Total testing samples: {test_combined.shape[0]}\")"
   ]
  },
  {
   "cell_type": "code",
   "execution_count": 23,
   "metadata": {},
   "outputs": [],
   "source": [
    "# 12. Define PyTorch Dataset and DataLoader\n",
    "class InteractionDataset(Dataset):\n",
    "    def __init__(self, df):\n",
    "        self.user = torch.tensor(df['user'].values, dtype=torch.long)\n",
    "        self.item = torch.tensor(df['item'].values, dtype=torch.long)\n",
    "        self.label = torch.tensor(df['label'].values, dtype=torch.float32)\n",
    "    \n",
    "    def __len__(self):\n",
    "        return len(self.user)\n",
    "    \n",
    "    def __getitem__(self, idx):\n",
    "        return self.user[idx], self.item[idx], self.label[idx]\n",
    "\n",
    "# Instantiate the Datasets\n",
    "train_dataset = InteractionDataset(train_combined)\n",
    "test_dataset = InteractionDataset(test_combined)\n",
    "\n",
    "# Create DataLoaders with optimized settings\n",
    "train_loader = DataLoader(train_dataset, batch_size=1024, shuffle=True, num_workers=0, pin_memory=True)\n",
    "test_loader = DataLoader(test_dataset, batch_size=1024, shuffle=False, num_workers=0, pin_memory=True)\n"
   ]
  },
  {
   "cell_type": "code",
   "execution_count": 24,
   "metadata": {},
   "outputs": [],
   "source": [
    "# 13. Define the Neural Collaborative Filtering (NCF) Model\n",
    "class NCFModel(nn.Module):\n",
    "    def __init__(self, num_users, num_items, embedding_size=50):\n",
    "        super(NCFModel, self).__init__()\n",
    "        self.user_embedding = nn.Embedding(num_users, embedding_size)\n",
    "        self.item_embedding = nn.Embedding(num_items, embedding_size)\n",
    "        \n",
    "        self.fc1 = nn.Linear(embedding_size * 2, 128)\n",
    "        self.dropout1 = nn.Dropout(0.5)\n",
    "        self.fc2 = nn.Linear(128, 64)\n",
    "        self.dropout2 = nn.Dropout(0.5)\n",
    "        self.output_layer = nn.Linear(64, 1)\n",
    "    \n",
    "    def forward(self, user, item):\n",
    "        user_emb = self.user_embedding(user)\n",
    "        item_emb = self.item_embedding(item)\n",
    "        x = torch.cat([user_emb, item_emb], dim=1)\n",
    "        x = torch.relu(self.fc1(x))\n",
    "        x = self.dropout1(x)\n",
    "        x = torch.relu(self.fc2(x))\n",
    "        x = self.dropout2(x)\n",
    "        x = self.output_layer(x)  # No sigmoid here\n",
    "        return x.squeeze()"
   ]
  },
  {
   "cell_type": "code",
   "execution_count": 25,
   "metadata": {},
   "outputs": [
    {
     "name": "stdout",
     "output_type": "stream",
     "text": [
      "\n",
      "Using device: cuda\n"
     ]
    }
   ],
   "source": [
    "# 14. Instantiate the Model, Define Loss and Optimizer\n",
    "device = torch.device('cuda' if torch.cuda.is_available() else 'cpu')\n",
    "print(f'\\nUsing device: {device}')\n",
    "\n",
    "model = NCFModel(num_users, num_items, embedding_size=50).to(device)\n",
    "\n",
    "# Define loss function and optimizer\n",
    "criterion = nn.BCEWithLogitsLoss()\n",
    "optimizer = optim.Adam(model.parameters(), lr=0.001)\n",
    "\n",
    "# Initialize GradScaler for mixed precision training\n",
    "scaler = GradScaler()\n"
   ]
  },
  {
   "cell_type": "code",
   "execution_count": 31,
   "metadata": {},
   "outputs": [
    {
     "name": "stdout",
     "output_type": "stream",
     "text": [
      "\n",
      "Epoch 1/10\n"
     ]
    },
    {
     "name": "stderr",
     "output_type": "stream",
     "text": [
      "Training: 100%|██████████| 6744/6744 [09:55<00:00, 11.32it/s]\n",
      "Validation: 100%|██████████| 2071/2071 [01:11<00:00, 28.91it/s]\n"
     ]
    },
    {
     "name": "stdout",
     "output_type": "stream",
     "text": [
      "\n",
      "Epoch [1/10] Summary:\n",
      "Training Loss: 0.3053, Training Accuracy: 0.8707\n",
      "Validation Loss: 0.5339, Validation Accuracy: 0.7563\n",
      "Model saved!\n",
      "\n",
      "Epoch 2/10\n"
     ]
    },
    {
     "name": "stderr",
     "output_type": "stream",
     "text": [
      "Training: 100%|██████████| 6744/6744 [10:27<00:00, 10.76it/s]\n",
      "Validation: 100%|██████████| 2071/2071 [01:21<00:00, 25.42it/s]\n"
     ]
    },
    {
     "name": "stdout",
     "output_type": "stream",
     "text": [
      "\n",
      "Epoch [2/10] Summary:\n",
      "Training Loss: 0.2880, Training Accuracy: 0.8799\n",
      "Validation Loss: 0.5527, Validation Accuracy: 0.7502\n",
      "\n",
      "Epoch 3/10\n"
     ]
    },
    {
     "name": "stderr",
     "output_type": "stream",
     "text": [
      "Training: 100%|██████████| 6744/6744 [10:28<00:00, 10.73it/s]\n",
      "Validation: 100%|██████████| 2071/2071 [01:19<00:00, 26.19it/s]\n"
     ]
    },
    {
     "name": "stdout",
     "output_type": "stream",
     "text": [
      "\n",
      "Epoch [3/10] Summary:\n",
      "Training Loss: 0.2708, Training Accuracy: 0.8887\n",
      "Validation Loss: 0.5766, Validation Accuracy: 0.7431\n",
      "\n",
      "Epoch 4/10\n"
     ]
    },
    {
     "name": "stderr",
     "output_type": "stream",
     "text": [
      "Training: 100%|██████████| 6744/6744 [10:32<00:00, 10.67it/s]\n",
      "Validation: 100%|██████████| 2071/2071 [01:17<00:00, 26.59it/s]"
     ]
    },
    {
     "name": "stdout",
     "output_type": "stream",
     "text": [
      "\n",
      "Epoch [4/10] Summary:\n",
      "Training Loss: 0.2544, Training Accuracy: 0.8966\n",
      "Validation Loss: 0.6010, Validation Accuracy: 0.7386\n",
      "Early stopping triggered!\n"
     ]
    },
    {
     "name": "stderr",
     "output_type": "stream",
     "text": [
      "\n"
     ]
    }
   ],
   "source": [
    "# 15. Training Loop with Early Stopping\n",
    "from sklearn.metrics import accuracy_score, roc_auc_score\n",
    "\n",
    "num_epochs = 10\n",
    "best_val_loss = float('inf')\n",
    "patience = 3\n",
    "trigger_times = 0\n",
    "\n",
    "for epoch in range(num_epochs):\n",
    "    model.train()\n",
    "    epoch_loss = 0\n",
    "    epoch_acc = 0\n",
    "    total = 0\n",
    "    \n",
    "    print(f\"\\nEpoch {epoch+1}/{num_epochs}\")\n",
    "    \n",
    "    for batch in tqdm(train_loader, desc=\"Training\"):\n",
    "        user, item, label = batch\n",
    "        user = user.to(device, non_blocking=True)\n",
    "        item = item.to(device, non_blocking=True)\n",
    "        label = label.to(device, non_blocking=True)\n",
    "        \n",
    "        optimizer.zero_grad()\n",
    "        \n",
    "        with autocast(device_type='cuda'):\n",
    "            outputs = model(user, item)\n",
    "            loss = criterion(outputs, label)\n",
    "        \n",
    "        scaler.scale(loss).backward()\n",
    "        scaler.step(optimizer)\n",
    "        scaler.update()\n",
    "        \n",
    "        epoch_loss += loss.item() * user.size(0)\n",
    "        preds = (torch.sigmoid(outputs) >= 0.5).float()\n",
    "        epoch_acc += (preds == label).sum().item()\n",
    "        total += user.size(0)\n",
    "    \n",
    "    epoch_loss /= total\n",
    "    epoch_acc /= total\n",
    "    \n",
    "    # Validation Phase\n",
    "    model.eval()\n",
    "    val_loss = 0\n",
    "    val_acc = 0\n",
    "    val_total = 0\n",
    "    \n",
    "    with torch.no_grad():\n",
    "        for batch in tqdm(test_loader, desc=\"Validation\"):\n",
    "            user, item, label = batch\n",
    "            user = user.to(device, non_blocking=True)\n",
    "            item = item.to(device, non_blocking=True)\n",
    "            label = label.to(device, non_blocking=True)\n",
    "            \n",
    "            with autocast(device_type='cuda'):\n",
    "                outputs = model(user, item)\n",
    "                loss = criterion(outputs, label)\n",
    "            \n",
    "            val_loss += loss.item() * user.size(0)\n",
    "            preds = (torch.sigmoid(outputs) >= 0.5).float()\n",
    "            val_acc += (preds == label).sum().item()\n",
    "            val_total += user.size(0)\n",
    "    \n",
    "    val_loss /= val_total\n",
    "    val_acc /= val_total\n",
    "    \n",
    "    print(f\"\\nEpoch [{epoch+1}/{num_epochs}] Summary:\")\n",
    "    print(f\"Training Loss: {epoch_loss:.4f}, Training Accuracy: {epoch_acc:.4f}\")\n",
    "    print(f\"Validation Loss: {val_loss:.4f}, Validation Accuracy: {val_acc:.4f}\")\n",
    "    \n",
    "    # Early Stopping and Checkpointing\n",
    "    if val_loss < best_val_loss:\n",
    "        best_val_loss = val_loss\n",
    "        trigger_times = 0\n",
    "        torch.save(model.state_dict(), 'best_ncf_model.pth')\n",
    "        print(\"Model saved!\")\n",
    "    else:\n",
    "        trigger_times += 1\n",
    "        if trigger_times >= patience:\n",
    "            print(\"Early stopping triggered!\")\n",
    "            break\n"
   ]
  },
  {
   "cell_type": "code",
   "execution_count": 32,
   "metadata": {},
   "outputs": [
    {
     "name": "stderr",
     "output_type": "stream",
     "text": [
      "C:\\Users\\viraj\\AppData\\Local\\Temp\\ipykernel_37632\\1017832022.py:3: FutureWarning: You are using `torch.load` with `weights_only=False` (the current default value), which uses the default pickle module implicitly. It is possible to construct malicious pickle data which will execute arbitrary code during unpickling (See https://github.com/pytorch/pytorch/blob/main/SECURITY.md#untrusted-models for more details). In a future release, the default value for `weights_only` will be flipped to `True`. This limits the functions that could be executed during unpickling. Arbitrary objects will no longer be allowed to be loaded via this mode unless they are explicitly allowlisted by the user via `torch.serialization.add_safe_globals`. We recommend you start setting `weights_only=True` for any use case where you don't have full control of the loaded file. Please open an issue on GitHub for any issues related to this experimental feature.\n",
      "  model.load_state_dict(torch.load('best_ncf_model.pth'))\n",
      "Evaluating: 100%|██████████| 2071/2071 [00:37<00:00, 55.76it/s] \n"
     ]
    },
    {
     "name": "stdout",
     "output_type": "stream",
     "text": [
      "\n",
      "Test Accuracy: 0.7563\n",
      "Test ROC-AUC: 0.7572\n"
     ]
    }
   ],
   "source": [
    "# 16. Evaluating the Model\n",
    "# Load the best model\n",
    "model.load_state_dict(torch.load('best_ncf_model.pth'))\n",
    "model.eval()\n",
    "\n",
    "all_labels = []\n",
    "all_preds = []\n",
    "\n",
    "with torch.no_grad():\n",
    "    for batch in tqdm(test_loader, desc=\"Evaluating\"):\n",
    "        user, item, label = batch\n",
    "        user = user.to(device, non_blocking=True)\n",
    "        item = item.to(device, non_blocking=True)\n",
    "        label = label.to(device, non_blocking=True)\n",
    "        \n",
    "        outputs = model(user, item)\n",
    "        preds = torch.sigmoid(outputs).cpu().numpy()  # Apply sigmoid here\n",
    "        labels = label.cpu().numpy()\n",
    "        \n",
    "        all_preds.extend(preds)\n",
    "        all_labels.extend(labels)\n",
    "\n",
    "# Compute metrics\n",
    "pred_binary = [1 if p >= 0.5 else 0 for p in all_preds]\n",
    "accuracy = accuracy_score(all_labels, pred_binary)\n",
    "roc_auc = roc_auc_score(all_labels, all_preds)\n",
    "\n",
    "print(f\"\\nTest Accuracy: {accuracy:.4f}\")\n",
    "print(f\"Test ROC-AUC: {roc_auc:.4f}\")"
   ]
  },
  {
   "cell_type": "code",
   "execution_count": 33,
   "metadata": {},
   "outputs": [
    {
     "name": "stdout",
     "output_type": "stream",
     "text": [
      "\n",
      "Model and encoders have been saved successfully.\n"
     ]
    }
   ],
   "source": [
    "# 17. Saving the Model and Encoders\n",
    "# Save the trained model\n",
    "torch.save(model.state_dict(), 'ncf_model.pth')\n",
    "\n",
    "# Save encoders\n",
    "with open('user_encoder.pkl', 'wb') as f:\n",
    "    pickle.dump(user_encoder, f)\n",
    "\n",
    "with open('item_encoder.pkl', 'wb') as f:\n",
    "    pickle.dump(item_encoder, f)\n",
    "\n",
    "# Save user_positive_items for recommendations\n",
    "user_positive_items = defaultdict(set)\n",
    "for row in train_data.itertuples(index=False):\n",
    "    user_positive_items[row.user].add(row.item)\n",
    "\n",
    "with open('user_positive_items.pkl', 'wb') as f:\n",
    "    pickle.dump(user_positive_items, f)\n",
    "\n",
    "print(\"\\nModel and encoders have been saved successfully.\")"
   ]
  },
  {
   "cell_type": "code",
   "execution_count": 44,
   "metadata": {},
   "outputs": [],
   "source": [
    "# Prepare validation dataset (using positive interactions only)\n",
    "def create_validation_dataset(df):\n",
    "    user = tf.constant(df['user'].values, dtype=tf.int32)\n",
    "    item = tf.constant(df['item'].values, dtype=tf.int32)\n",
    "    label = tf.constant(np.ones(len(df)), dtype=tf.float32)  # All positive labels\n",
    "    return tf.data.Dataset.from_tensor_slices(((user, item), label)).batch(1024)\n",
    "\n",
    "validation_dataset = create_validation_dataset(test_data)\n"
   ]
  },
  {
   "cell_type": "code",
   "execution_count": 17,
   "metadata": {},
   "outputs": [
    {
     "name": "stdout",
     "output_type": "stream",
     "text": [
      "PyTorch Version: 2.4.1\n",
      "CUDA Available: True\n"
     ]
    }
   ],
   "source": [
    "import torch\n",
    "\n",
    "print(\"PyTorch Version:\", torch.__version__)\n",
    "print(\"CUDA Available:\", torch.cuda.is_available())\n",
    "\n"
   ]
  },
  {
   "cell_type": "code",
   "execution_count": null,
   "metadata": {},
   "outputs": [],
   "source": []
  }
 ],
 "metadata": {
  "kernelspec": {
   "display_name": "rec_sys",
   "language": "python",
   "name": "python3"
  },
  "language_info": {
   "codemirror_mode": {
    "name": "ipython",
    "version": 3
   },
   "file_extension": ".py",
   "mimetype": "text/x-python",
   "name": "python",
   "nbconvert_exporter": "python",
   "pygments_lexer": "ipython3",
   "version": "3.8.20"
  }
 },
 "nbformat": 4,
 "nbformat_minor": 2
}
